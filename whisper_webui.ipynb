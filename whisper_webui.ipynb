{
  "cells": [
    {
      "cell_type": "markdown",
      "source": [
        "---\n",
        "\n",
        "📌 **This notebook has been updated [here](https://github.com/jhj0517/Whisper-WebUI.git)!**\n",
        "\n",
        "🖋 **Author**: [jhj0517](https://github.com/jhj0517/Whisper-WebUI/blob/master/notebook/whisper-webui.ipynb)\n",
        "\n",
        "🖋 **Modified**: [Codemaster](https://github.com/jhj0517/Whisper-WebUI/blob/master/notebook/whisper-webui.ipynb)\n",
        "\n",
        "😎 **Support the Project**:\n",
        "\n",
        "If you find this project useful, please consider supporting it:\n",
        "\n",
        "<a href=\"https://www.buymeacoffee.com/jhj0517\" target=\"_blank\" style=\"margin-right: 10px;\">\n",
        "    <img src=\"https://cdn.buymeacoffee.com/buttons/v2/default-yellow.png\" alt=\"Buy Me A Coffee\" width=\"158\" height=\"36\">\n",
        "</a>\n",
        "<a href=\"https://ko-fi.com/A0A7JSQRJ\" target=\"_blank\">\n",
        "    <img src=\"https://storage.ko-fi.com/cdn/kofi2.png?v=3\" alt=\"Buy Me a Coffee at ko-fi.com\" height=\"36\">\n",
        "</a>\n",
        "\n",
        "---"
      ],
      "metadata": {
        "id": "doKhBBXIfS21"
      }
    },
    {
      "cell_type": "code",
      "source": [
        "#@title #Installation\n",
        "\n",
        "from IPython.display import clear_output, display, HTML\n",
        "import os, subprocess, time, glob\n",
        "import zipfile\n",
        "import shutil\n",
        "from datetime import timedelta\n",
        "from google.colab import drive\n",
        "from IPython.utils import capture\n",
        "from subprocess import getoutput\n",
        "from urllib.parse import unquote\n",
        "from google.colab.output import eval_js\n",
        "\n",
        "\n",
        "\n",
        "\n",
        "def my_function():\n",
        "    print('Installing...')\n",
        "    !git clone https://github.com/jhj0517/Whisper-WebUI.git\n",
        "    %cd Whisper-WebUI\n",
        "\n",
        "    # Download and install dependencies\n",
        "    os.system('wget https://huggingface.co/NoCrypt/fast-repo/resolve/main/ubuntu_deps.zip ; unzip ubuntu_deps.zip -d ./deps ; dpkg -i ./deps/* ; rm -rf ubuntu_deps.zip /content/deps/')\n",
        "\n",
        "    # Download files using aria2c\n",
        "    aria_command = (\n",
        "        \"aria2c -i- -j5 -x16 -s16 -k1M -c <<EOF\\n\"\n",
        "        \"https://huggingface.co/bigbossmonster/whisper/resolve/main/whisperdep.tar.lz4\\n\"\n",
        "        \" out=whisperdep.tar.lz4\\n\"\n",
        "        \"EOF\"\n",
        "    )\n",
        "    os.system(aria_command)\n",
        "    print('Finishing the setup.. ')\n",
        "    # Extract files using tar and lz4\n",
        "    os.system('tar -xI lz4 -f whisperdep.tar.lz4 --overwrite-dir --directory=/')\n",
        "\n",
        "\n",
        "    # Remove downloaded archive files\n",
        "    os.system('rm -rf whisperdep.tar.lz4')\n",
        "\n",
        "    !pip install -r requirements.txt\n",
        "    print('Successfully install')\n",
        "\n",
        "my_function()\n"
      ],
      "metadata": {
        "cellView": "form",
        "id": "n2SQL_q5HEkS"
      },
      "execution_count": null,
      "outputs": []
    },
    {
      "cell_type": "code",
      "execution_count": null,
      "metadata": {
        "id": "PQroYRRZzQiN",
        "cellView": "form"
      },
      "outputs": [],
      "source": [
        "#@title #Run\n",
        "#@markdown Once the installation is complete, you can use public URL that is displayed.\n",
        "if 'arguments' in locals():\n",
        "  !python app.py --share --colab{arguments}\n",
        "else:\n",
        "    !python app.py --share --colab"
      ]
    }
  ],
  "metadata": {
    "colab": {
      "provenance": [],
      "gpuType": "T4"
    },
    "kernelspec": {
      "display_name": "Python 3",
      "name": "python3"
    },
    "language_info": {
      "name": "python"
    },
    "accelerator": "GPU"
  },
  "nbformat": 4,
  "nbformat_minor": 0
}